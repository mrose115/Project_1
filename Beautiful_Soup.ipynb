{
 "cells": [
  {
   "cell_type": "code",
   "execution_count": null,
   "metadata": {},
   "outputs": [],
   "source": [
    "import requests\n",
    "from bs4 import BeautifulSoup\n",
    "import pandas as pd\n",
    "\n",
    "url = \"https://www.boxofficemojo.com/year/2018/\"\n",
    "\n",
    "grosscount = 0\n",
    "\n",
    "page_text = requests.get(url).text\n",
    "\n",
    "soup = BeautifulSoup(page_text, 'html.parser')\n",
    "\n",
    "movietitle = soup.find_all('td', {'a-text-left mojo-field-type-release mojo-cell-wide'})\n",
    "grossamount = soup.find_all('td', {'class': 'a-text-right mojo-field-type-money mojo-estimatable'})\n",
    "releasedate = soup.find_all('td', {'a-text-left mojo-field-type-date a-nowrap'})\n",
    "distributor = soup.find_all('td', {'a-text-left mojo-field-type-studio'})\n",
    "\n",
    "movie_title = []\n",
    "dollar_amount = []\n",
    "release_date = []\n",
    "production_company = []\n",
    "\n",
    "for title in movietitle:\n",
    "    movie_title.append(title.text)\n",
    "\n",
    "for dollaramount in grossamount:\n",
    "    grosscount+=1\n",
    "    if grosscount % 2 == 0:\n",
    "        dollar_amount.append(dollaramount.text)\n",
    "\n",
    "for moviedate in releasedate:\n",
    "    release_date.append(moviedate.text)\n",
    "\n",
    "for prodcompany in distributor:\n",
    "    production_company.append(prodcompany.text)\n",
    "    \n",
    "box_office = pd.DataFrame({\"Movie Title\": movie_title, \n",
    "                           \"Total Gross\": dollar_amount,\n",
    "                           \"Release Date\": release_date,\n",
    "                           \"Production Company\": production_company,\n",
    "                           \"Year\": \"2018\"})\n",
    "    \n",
    "box_office.head()\n",
    "\n",
    "box_office.to_csv('Box Office Mojo 2018.csv', sep=',', encoding='utf-8')"
   ]
  }
 ],
 "metadata": {
  "kernelspec": {
   "display_name": "Python 3",
   "language": "python",
   "name": "python3"
  },
  "language_info": {
   "codemirror_mode": {
    "name": "ipython",
    "version": 3
   },
   "file_extension": ".py",
   "mimetype": "text/x-python",
   "name": "python",
   "nbconvert_exporter": "python",
   "pygments_lexer": "ipython3",
   "version": "3.6.9"
  }
 },
 "nbformat": 4,
 "nbformat_minor": 2
}
